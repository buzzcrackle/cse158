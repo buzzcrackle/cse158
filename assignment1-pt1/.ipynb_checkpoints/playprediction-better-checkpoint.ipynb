{
 "cells": [
  {
   "cell_type": "code",
   "execution_count": 5,
   "metadata": {},
   "outputs": [],
   "source": [
    "import gzip\n",
    "from collections import defaultdict\n",
    "import scipy\n",
    "import scipy.optimize\n",
    "import numpy as np\n",
    "import random\n",
    "from sklearn.metrics import balanced_accuracy_score"
   ]
  },
  {
   "cell_type": "code",
   "execution_count": 6,
   "metadata": {},
   "outputs": [],
   "source": [
    "# def readJSON(path):\n",
    "#     for l in gzip.open(path, 'rt'):\n",
    "#         d = eval(l)\n",
    "#         u = d['userID']\n",
    "#         try:\n",
    "#             g = d['gameID']\n",
    "#         except Exception as e:\n",
    "#             g = None\n",
    "#         yield u,g,d\n",
    "        \n",
    "def extract(line):\n",
    "    d = eval(line)\n",
    "    u = d['userID']\n",
    "    try:\n",
    "        g = d['gameID']\n",
    "    except Exception as e:\n",
    "        g = None\n",
    "    return u,g,d\n",
    "\n",
    "dataset = [extract(l) for l in gzip.open('train.json.gz', 'rt')]"
   ]
  },
  {
   "cell_type": "code",
   "execution_count": 7,
   "metadata": {},
   "outputs": [
    {
     "data": {
      "text/plain": [
       "175000"
      ]
     },
     "execution_count": 7,
     "metadata": {},
     "output_type": "execute_result"
    }
   ],
   "source": [
    "len(dataset)"
   ]
  },
  {
   "cell_type": "code",
   "execution_count": 8,
   "metadata": {},
   "outputs": [],
   "source": [
    "training_data = dataset[:165000]\n",
    "validation_data = dataset[165000:]"
   ]
  },
  {
   "cell_type": "code",
   "execution_count": 12,
   "metadata": {},
   "outputs": [],
   "source": [
    "reviewsPerUser = defaultdict(list)\n",
    "reviewsPerItem = defaultdict(list)\n",
    "\n",
    "usersPerGame = defaultdict(set)\n",
    "gamesPerUser = defaultdict(set)\n",
    "\n",
    "for user,game,d in training_data:\n",
    "    reviewsPerUser[user].append(d)\n",
    "    reviewsPerItem[game].append(d)\n",
    "    usersPerGame[game].add(user)\n",
    "    gamesPerUser[user].add(game)"
   ]
  },
  {
   "cell_type": "code",
   "execution_count": 13,
   "metadata": {},
   "outputs": [
    {
     "data": {
      "text/plain": [
       "{'b06111821',\n",
       " 'b08997406',\n",
       " 'b09870670',\n",
       " 'b20315259',\n",
       " 'b22054824',\n",
       " 'b22472780',\n",
       " 'b26574228',\n",
       " 'b28735043',\n",
       " 'b31566356',\n",
       " 'b35108009',\n",
       " 'b41908564',\n",
       " 'b47439123',\n",
       " 'b54071831',\n",
       " 'b65643011',\n",
       " 'b70025240',\n",
       " 'b70454867',\n",
       " 'b70704558',\n",
       " 'b71758149',\n",
       " 'b74265892',\n",
       " 'b75155505',\n",
       " 'b77184292',\n",
       " 'b82987255',\n",
       " 'b84742953',\n",
       " 'b86131432',\n",
       " 'b87439597',\n",
       " 'b90353136',\n",
       " 'b93370213',\n",
       " 'b96697924',\n",
       " 'b97704723'}"
      ]
     },
     "execution_count": 13,
     "metadata": {},
     "output_type": "execute_result"
    }
   ],
   "source": [
    "gamesPerUser['u36851597']"
   ]
  },
  {
   "cell_type": "code",
   "execution_count": 14,
   "metadata": {},
   "outputs": [
    {
     "data": {
      "text/plain": [
       "2437"
      ]
     },
     "execution_count": 14,
     "metadata": {},
     "output_type": "execute_result"
    }
   ],
   "source": [
    "gamesPerUser_all = defaultdict(set)\n",
    "gameCount = defaultdict(int)\n",
    "totalPlayed = 0\n",
    "\n",
    "# Create false pairs\n",
    "all_games_set = set()\n",
    "all_users_set = set()\n",
    "\n",
    "for u,g,d in dataset:\n",
    "    all_games_set.add(g)\n",
    "    all_users_set.add(u)\n",
    "    gamesPerUser_all[u].add(g)\n",
    "    gameCount[g] += 1\n",
    "    totalPlayed += 1\n",
    "\n",
    "all_games = list(all_games_set)\n",
    "all_users = list(all_users_set)\n",
    "false_pairs = []\n",
    "    \n",
    "random.shuffle(all_games)\n",
    "random.shuffle(all_users)\n",
    "for g in all_games:\n",
    "    if len(false_pairs) > 5000:\n",
    "        break\n",
    "    for u in all_users:\n",
    "        if g not in gamesPerUser_all[u]:\n",
    "            false_pairs.append((u,g))\n",
    "            break\n",
    "            \n",
    "len(all_games)"
   ]
  },
  {
   "cell_type": "code",
   "execution_count": 82,
   "metadata": {},
   "outputs": [],
   "source": [
    "mostPopular = [(gameCount[x], x) for x in gameCount]\n",
    "mostPopular.sort()\n",
    "mostPopular.reverse()\n",
    "\n",
    "return1 = set()\n",
    "count = 0\n",
    "for ic, i in mostPopular:\n",
    "    count += ic\n",
    "    return1.add(i)\n",
    "    if count > totalPlayed/2: break"
   ]
  },
  {
   "cell_type": "code",
   "execution_count": 16,
   "metadata": {},
   "outputs": [],
   "source": [
    "def Jaccard(s1, s2):\n",
    "    numer = len(s1.intersection(s2))\n",
    "    denom = len(s1.union(s2))\n",
    "    return numer / denom"
   ]
  },
  {
   "cell_type": "code",
   "execution_count": 17,
   "metadata": {},
   "outputs": [],
   "source": [
    "def Cosine(i1, i2):\n",
    "    s1, s2 = usersPerItem[i1], usersPerItem[i2]\n",
    "    inter = s1.intersection(s2)\n",
    "    denom = np.sqrt(len(s1) * len(s2))"
   ]
  },
  {
   "cell_type": "code",
   "execution_count": 18,
   "metadata": {},
   "outputs": [],
   "source": [
    "def predictRatingCos(user,item):\n",
    "    ratings = []\n",
    "    similarities = []\n",
    "    i1_review = reviewsPerItem[item]\n",
    "    i1_mean = sum([d['rating'] for d in i1_review]) / len(i1_review)\n",
    "    for d in reviewsPerUser[user]:\n",
    "        i2 = d['book_id']\n",
    "        if i2 == item: continue\n",
    "        i2_review = reviewsPerItem[i2]\n",
    "        i2_mean = sum([d['rating'] for d in i2_review]) / len(i2_review)\n",
    "        ratings.append(d['rating'] - i2_mean)\n",
    "        similarities.append(itemCosine(item, i2))\n",
    "    if (sum(similarities) > 0):\n",
    "        weightedRatings = [(x*y) for x,y in zip(ratings,similarities)]\n",
    "        return sum(weightedRatings) / sum(similarities) + i1_mean\n",
    "    else:\n",
    "        # User hasn't rated any similar items\n",
    "        return "
   ]
  },
  {
   "cell_type": "code",
   "execution_count": 88,
   "metadata": {},
   "outputs": [
    {
     "data": {
      "text/plain": [
       "0.05342857142857143"
      ]
     },
     "execution_count": 88,
     "metadata": {},
     "output_type": "execute_result"
    }
   ],
   "source": [
    "gameCount[mostPopular[200][1]] * 50 / totalPlayed"
   ]
  },
  {
   "cell_type": "code",
   "execution_count": 160,
   "metadata": {},
   "outputs": [],
   "source": [
    "popularity = defaultdict(float)\n",
    "for g in gameCount:\n",
    "    popularity[g] = gameCount[g] * 50 / totalPlayed"
   ]
  },
  {
   "cell_type": "code",
   "execution_count": 142,
   "metadata": {},
   "outputs": [],
   "source": [
    "def predict(user, game, jacval):\n",
    "    similarities = []\n",
    "    for i2 in gamesPerUser[user]:\n",
    "        if i2 == game: continue\n",
    "#         ratings.append(1)\n",
    "#         jac = Jaccard(usersPerGame[game],usersPerGame[i2])\n",
    "        jac = Cosine(game,i2)\n",
    "        jac += popularity[game]\n",
    "        similarities.append(jac)\n",
    "    if len(similarities) == 0:\n",
    "        return 0\n",
    "    avgSim = sum(similarities) / len(similarities)\n",
    "    return avgSim > jacval"
   ]
  },
  {
   "cell_type": "code",
   "execution_count": 143,
   "metadata": {},
   "outputs": [
    {
     "name": "stdout",
     "output_type": "stream",
     "text": [
      "0.6805852277390234 0.5052 0.1440295445219532\n"
     ]
    }
   ],
   "source": [
    "return2 = set()\n",
    "count = 0\n",
    "for ic, i in mostPopular:\n",
    "    count += ic\n",
    "    return2.add(i)\n",
    "    if count > totalPlayed/2: break\n",
    "\n",
    "pred1 = []\n",
    "actual1 = []\n",
    "for user, game, d in validation_data:\n",
    "    pred1.append(game in return2)\n",
    "    actual1.append(True)\n",
    "\n",
    "TP_ratio = sum(pred1) / len(pred1)\n",
    "\n",
    "pred2 = []\n",
    "actual2 = []\n",
    "for user, game in false_pairs:\n",
    "    pred2.append(game in return2)\n",
    "    actual2.append(False)\n",
    "    \n",
    "TN_ratio = sum(pred2) / len(pred2)\n",
    "\n",
    "baseline = pred1 + pred2\n",
    "actual = actual1 + actual2\n",
    "\n",
    "print(balanced_accuracy_score(actual, baseline), TP_ratio, TN_ratio)"
   ]
  },
  {
   "cell_type": "code",
   "execution_count": 144,
   "metadata": {},
   "outputs": [
    {
     "data": {
      "text/plain": [
       "351"
      ]
     },
     "execution_count": 144,
     "metadata": {},
     "output_type": "execute_result"
    }
   ],
   "source": [
    "len(return1)"
   ]
  },
  {
   "cell_type": "code",
   "execution_count": 172,
   "metadata": {},
   "outputs": [
    {
     "name": "stdout",
     "output_type": "stream",
     "text": [
      "0.7156212313005175 0.736631684157921 0.30538922155688625\n"
     ]
    }
   ],
   "source": [
    "N = 20\n",
    "pop = return1\n",
    "# pop = set()\n",
    "\n",
    "count1 = 0\n",
    "count2 = 0\n",
    "small_set = True\n",
    "\n",
    "jac = 0.027\n",
    "\n",
    "pred1 = []\n",
    "actual1 = []\n",
    "for user, game, d in validation_data:\n",
    "    if small_set and count1 > 2000:\n",
    "        break\n",
    "    count1 += 1\n",
    "    pred1.append(predict(user, game, jac))\n",
    "    actual1.append(True)\n",
    "    \n",
    "pred1[:10]\n",
    "\n",
    "TP_ratio = sum(pred1) / len(pred1)\n",
    "\n",
    "pred2 = []\n",
    "actual2 = []\n",
    "for user, game in false_pairs:\n",
    "    if small_set and count2 > 500:\n",
    "        break\n",
    "    count2 += 1\n",
    "    pred2.append(predict(user, game, jac))\n",
    "    actual2.append(False)\n",
    "    \n",
    "TN_ratio = sum(pred2) / len(pred2)\n",
    "\n",
    "actual = actual1 + actual2\n",
    "pred = pred1 + pred2\n",
    "print(balanced_accuracy_score(actual, pred), TP_ratio, TN_ratio)"
   ]
  },
  {
   "cell_type": "markdown",
   "metadata": {},
   "source": [
    "0.6745067681322661 0.8031968031968032 0.4541832669322709"
   ]
  },
  {
   "cell_type": "code",
   "execution_count": 173,
   "metadata": {},
   "outputs": [],
   "source": [
    "predictions = open(\"predictions_Played.csv\", 'w')\n",
    "for l in open(\"pairs_Played.txt\"):\n",
    "    if l.startswith(\"userID\"):\n",
    "        #header\n",
    "        predictions.write(l)\n",
    "        continue\n",
    "    u,g = l.strip().split('-')\n",
    "    result = 1 if predict(u,g,jac) else 0\n",
    "    predictions.write(u + '-' + g + \",\" + str(result) + \"\\n\")\n",
    "\n",
    "predictions.close()"
   ]
  },
  {
   "cell_type": "code",
   "execution_count": null,
   "metadata": {},
   "outputs": [],
   "source": []
  }
 ],
 "metadata": {
  "kernelspec": {
   "display_name": "Python 3",
   "language": "python",
   "name": "python3"
  },
  "language_info": {
   "codemirror_mode": {
    "name": "ipython",
    "version": 3
   },
   "file_extension": ".py",
   "mimetype": "text/x-python",
   "name": "python",
   "nbconvert_exporter": "python",
   "pygments_lexer": "ipython3",
   "version": "3.8.3"
  }
 },
 "nbformat": 4,
 "nbformat_minor": 4
}
