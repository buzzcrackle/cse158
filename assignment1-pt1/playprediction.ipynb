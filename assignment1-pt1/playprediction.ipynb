{
 "cells": [
  {
   "cell_type": "code",
   "execution_count": 1,
   "metadata": {},
   "outputs": [],
   "source": [
    "import gzip\n",
    "from collections import defaultdict\n",
    "import scipy\n",
    "import scipy.optimize\n",
    "import numpy as np\n",
    "import random\n",
    "from sklearn.metrics import balanced_accuracy_score"
   ]
  },
  {
   "cell_type": "code",
   "execution_count": 2,
   "metadata": {},
   "outputs": [],
   "source": [
    "# def readJSON(path):\n",
    "#     for l in gzip.open(path, 'rt'):\n",
    "#         d = eval(l)\n",
    "#         u = d['userID']\n",
    "#         try:\n",
    "#             g = d['gameID']\n",
    "#         except Exception as e:\n",
    "#             g = None\n",
    "#         yield u,g,d\n",
    "        \n",
    "def extract(line):\n",
    "    d = eval(line)\n",
    "    u = d['userID']\n",
    "    try:\n",
    "        g = d['gameID']\n",
    "    except Exception as e:\n",
    "        g = None\n",
    "    return u,g,d\n",
    "\n",
    "dataset = [extract(l) for l in gzip.open('train.json.gz', 'rt')]"
   ]
  },
  {
   "cell_type": "code",
   "execution_count": 3,
   "metadata": {},
   "outputs": [
    {
     "data": {
      "text/plain": [
       "175000"
      ]
     },
     "execution_count": 3,
     "metadata": {},
     "output_type": "execute_result"
    }
   ],
   "source": [
    "len(dataset)"
   ]
  },
  {
   "cell_type": "code",
   "execution_count": 4,
   "metadata": {},
   "outputs": [],
   "source": [
    "training_data = dataset[:165000]\n",
    "validation_data = dataset[165000:]"
   ]
  },
  {
   "cell_type": "code",
   "execution_count": 5,
   "metadata": {},
   "outputs": [],
   "source": [
    "usersPerGame = defaultdict(set)\n",
    "gamesPerUser = defaultdict(set)\n",
    "\n",
    "for user,game,d in training_data:\n",
    "    usersPerGame[game].add(user)\n",
    "    gamesPerUser[user].add(game)"
   ]
  },
  {
   "cell_type": "code",
   "execution_count": 6,
   "metadata": {},
   "outputs": [
    {
     "data": {
      "text/plain": [
       "{'b06111821',\n",
       " 'b08997406',\n",
       " 'b09870670',\n",
       " 'b20315259',\n",
       " 'b22054824',\n",
       " 'b22472780',\n",
       " 'b26574228',\n",
       " 'b28735043',\n",
       " 'b31566356',\n",
       " 'b35108009',\n",
       " 'b41908564',\n",
       " 'b47439123',\n",
       " 'b54071831',\n",
       " 'b65643011',\n",
       " 'b70025240',\n",
       " 'b70454867',\n",
       " 'b70704558',\n",
       " 'b71758149',\n",
       " 'b74265892',\n",
       " 'b75155505',\n",
       " 'b77184292',\n",
       " 'b82987255',\n",
       " 'b84742953',\n",
       " 'b86131432',\n",
       " 'b87439597',\n",
       " 'b90353136',\n",
       " 'b93370213',\n",
       " 'b96697924',\n",
       " 'b97704723'}"
      ]
     },
     "execution_count": 6,
     "metadata": {},
     "output_type": "execute_result"
    }
   ],
   "source": [
    "gamesPerUser['u36851597']"
   ]
  },
  {
   "cell_type": "code",
   "execution_count": 7,
   "metadata": {},
   "outputs": [],
   "source": [
    "def Jaccard(s1, s2):\n",
    "    numer = len(s1.intersection(s2))\n",
    "    denom = len(s1.union(s2))\n",
    "    return numer / denom"
   ]
  },
  {
   "cell_type": "code",
   "execution_count": 8,
   "metadata": {},
   "outputs": [],
   "source": [
    "def mostSimilar(i, n):\n",
    "    similarities = []\n",
    "    users = usersPerGame[i]\n",
    "    candidateGames = set()\n",
    "    for u in users:\n",
    "        candidateGames = candidateGames.union(gamesPerUser[u])\n",
    "    for i2 in candidateGames:\n",
    "        if i2 == i: continue\n",
    "        sim = Jaccard(users, usersPerGame[i2])\n",
    "        similarities.append((sim,i2))\n",
    "    similarities.sort(reverse=True)\n",
    "    return similarities[:n]"
   ]
  },
  {
   "cell_type": "code",
   "execution_count": 9,
   "metadata": {},
   "outputs": [
    {
     "data": {
      "text/plain": [
       "[(0.05496828752642706, 'b33355095'),\n",
       " (0.05311355311355311, 'b65718005'),\n",
       " (0.052704576976421634, 'b12882927'),\n",
       " (0.051655629139072845, 'b24479894'),\n",
       " (0.04664723032069971, 'b81322639'),\n",
       " (0.04655172413793104, 'b55199118'),\n",
       " (0.045627376425855515, 'b05337263'),\n",
       " (0.04491725768321513, 'b49167324'),\n",
       " (0.044709388971684055, 'b66296493'),\n",
       " (0.044009779951100246, 'b32709027'),\n",
       " (0.04321728691476591, 'b34765006'),\n",
       " (0.04295942720763723, 'b61085487'),\n",
       " (0.042682926829268296, 'b08114745'),\n",
       " (0.0425, 'b05996210'),\n",
       " (0.04217687074829932, 'b50099026'),\n",
       " (0.0420017873100983, 'b14306623'),\n",
       " (0.04173106646058733, 'b37544219'),\n",
       " (0.04130808950086059, 'b35341763'),\n",
       " (0.04081632653061224, 'b58310300'),\n",
       " (0.04068522483940043, 'b90883081')]"
      ]
     },
     "execution_count": 9,
     "metadata": {},
     "output_type": "execute_result"
    }
   ],
   "source": [
    "query = 'b30237103'\n",
    "mostSimilar(query, 20)"
   ]
  },
  {
   "cell_type": "code",
   "execution_count": 10,
   "metadata": {},
   "outputs": [],
   "source": [
    "def userPlayedSimilar(user, game, n):\n",
    "    similarGames = mostSimilar(game, n)\n",
    "    for jac, g in similarGames:\n",
    "        if g in gamesPerUser[user]:\n",
    "            return True\n",
    "    return False"
   ]
  },
  {
   "cell_type": "code",
   "execution_count": 11,
   "metadata": {},
   "outputs": [
    {
     "data": {
      "text/plain": [
       "True"
      ]
     },
     "execution_count": 11,
     "metadata": {},
     "output_type": "execute_result"
    }
   ],
   "source": [
    "userPlayedSimilar('u42434461', 'b91625775', 70) # was true for baseline"
   ]
  },
  {
   "cell_type": "code",
   "execution_count": 12,
   "metadata": {},
   "outputs": [
    {
     "data": {
      "text/plain": [
       "2437"
      ]
     },
     "execution_count": 12,
     "metadata": {},
     "output_type": "execute_result"
    }
   ],
   "source": [
    "gamesPerUser_all = defaultdict(set)\n",
    "gameCount = defaultdict(int)\n",
    "totalPlayed = 0\n",
    "\n",
    "# Create false pairs\n",
    "all_games_set = set()\n",
    "all_users_set = set()\n",
    "\n",
    "for u,g,d in dataset:\n",
    "    all_games_set.add(g)\n",
    "    all_users_set.add(u)\n",
    "    gamesPerUser_all[u].add(g)\n",
    "    gameCount[g] += 1\n",
    "    totalPlayed += 1\n",
    "\n",
    "all_games = list(all_games_set)\n",
    "all_users = list(all_users_set)\n",
    "false_pairs = []\n",
    "    \n",
    "random.shuffle(all_games)\n",
    "random.shuffle(all_users)\n",
    "for g in all_games:\n",
    "    if len(false_pairs) > 5000:\n",
    "        break\n",
    "    for u in all_users:\n",
    "        if g not in gamesPerUser_all[u]:\n",
    "            false_pairs.append((u,g))\n",
    "            break\n",
    "            \n",
    "len(all_games)"
   ]
  },
  {
   "cell_type": "code",
   "execution_count": 13,
   "metadata": {},
   "outputs": [],
   "source": [
    "mostPopular = [(gameCount[x], x) for x in gameCount]\n",
    "mostPopular.sort()\n",
    "mostPopular.reverse()\n",
    "\n",
    "return1 = set()\n",
    "count = 0\n",
    "for ic, i in mostPopular:\n",
    "    count += ic\n",
    "    return1.add(i)\n",
    "    if count > totalPlayed/2: break"
   ]
  },
  {
   "cell_type": "code",
   "execution_count": 14,
   "metadata": {},
   "outputs": [],
   "source": [
    "def predict(user, game, popular, n):\n",
    "    if game in popular:\n",
    "        if userPlayedSimilar(user, game, 300):\n",
    "            return 1\n",
    "        return 0\n",
    "    elif userPlayedSimilar(user, game, n):\n",
    "        return 1\n",
    "    return 0"
   ]
  },
  {
   "cell_type": "code",
   "execution_count": 15,
   "metadata": {},
   "outputs": [
    {
     "name": "stdout",
     "output_type": "stream",
     "text": [
      "0.6805852277390234 0.5052 0.1440295445219532\n"
     ]
    }
   ],
   "source": [
    "return2 = set()\n",
    "count = 0\n",
    "for ic, i in mostPopular:\n",
    "    count += ic\n",
    "    return2.add(i)\n",
    "    if count > totalPlayed/2: break\n",
    "\n",
    "pred1 = []\n",
    "actual1 = []\n",
    "for user, game, d in validation_data:\n",
    "    pred1.append(game in return2)\n",
    "    actual1.append(True)\n",
    "\n",
    "TP_ratio = sum(pred1) / len(pred1)\n",
    "\n",
    "pred2 = []\n",
    "actual2 = []\n",
    "for user, game in false_pairs:\n",
    "    pred2.append(game in return2)\n",
    "    actual2.append(False)\n",
    "    \n",
    "TN_ratio = sum(pred2) / len(pred2)\n",
    "\n",
    "baseline = pred1 + pred2\n",
    "actual = actual1 + actual2\n",
    "\n",
    "print(balanced_accuracy_score(actual, baseline), TP_ratio, TN_ratio)"
   ]
  },
  {
   "cell_type": "code",
   "execution_count": 16,
   "metadata": {},
   "outputs": [
    {
     "data": {
      "text/plain": [
       "351"
      ]
     },
     "execution_count": 16,
     "metadata": {},
     "output_type": "execute_result"
    }
   ],
   "source": [
    "len(return1)"
   ]
  },
  {
   "cell_type": "code",
   "execution_count": 17,
   "metadata": {},
   "outputs": [
    {
     "name": "stdout",
     "output_type": "stream",
     "text": [
      "0.7026678500782086 0.6523476523476524 0.24701195219123506\n"
     ]
    }
   ],
   "source": [
    "N = 20\n",
    "pop = return1\n",
    "# pop = set()\n",
    "\n",
    "count1 = 0\n",
    "count2 = 0\n",
    "small_set = True\n",
    "\n",
    "pred1 = []\n",
    "actual1 = []\n",
    "for user, game, d in validation_data:\n",
    "    if small_set and count1 > 1000:\n",
    "        break\n",
    "    count1 += 1\n",
    "    pred1.append(predict(user, game, pop, N))\n",
    "    actual1.append(1)\n",
    "\n",
    "TP_ratio = sum(pred1) / len(pred1)\n",
    "\n",
    "pred2 = []\n",
    "actual2 = []\n",
    "for user, game in false_pairs:\n",
    "    if small_set and count2 > 250:\n",
    "        break\n",
    "    count2 += 1\n",
    "    pred2.append(predict(user, game, pop, N))\n",
    "    actual2.append(0)\n",
    "    \n",
    "TN_ratio = sum(pred2) / len(pred2)\n",
    "\n",
    "actual = actual1 + actual2\n",
    "pred = pred1 + pred2\n",
    "print(balanced_accuracy_score(actual, pred), TP_ratio, TN_ratio)"
   ]
  },
  {
   "cell_type": "markdown",
   "metadata": {},
   "source": [
    "0.6745067681322661 0.8031968031968032 0.4541832669322709"
   ]
  },
  {
   "cell_type": "code",
   "execution_count": null,
   "metadata": {},
   "outputs": [],
   "source": [
    "predictions = open(\"predictions_Played.csv\", 'w')\n",
    "for l in open(\"pairs_Played.txt\"):\n",
    "    if l.startswith(\"userID\"):\n",
    "        #header\n",
    "        predictions.write(l)\n",
    "        continue\n",
    "    u,g = l.strip().split('-')\n",
    "    result = predict(u,g,pop,N)\n",
    "    predictions.write(u + '-' + g + \",\" + str(result) + \"\\n\")\n",
    "\n",
    "predictions.close()"
   ]
  },
  {
   "cell_type": "code",
   "execution_count": null,
   "metadata": {},
   "outputs": [],
   "source": []
  }
 ],
 "metadata": {
  "kernelspec": {
   "display_name": "Python 3",
   "language": "python",
   "name": "python3"
  },
  "language_info": {
   "codemirror_mode": {
    "name": "ipython",
    "version": 3
   },
   "file_extension": ".py",
   "mimetype": "text/x-python",
   "name": "python",
   "nbconvert_exporter": "python",
   "pygments_lexer": "ipython3",
   "version": "3.7.6"
  }
 },
 "nbformat": 4,
 "nbformat_minor": 4
}
